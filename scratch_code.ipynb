{
 "cells": [
  {
   "cell_type": "code",
   "execution_count": 1,
   "metadata": {},
   "outputs": [],
   "source": [
    "import pandas as pd\n",
    "from sklearn.model_selection import train_test_split, cross_val_score, GridSearchCV\n",
    "from sklearn.feature_extraction.text import TfidfVectorizer\n",
    "from sklearn.naive_bayes import MultinomialNB\n",
    "from sklearn.tree import DecisionTreeClassifier\n",
    "from sklearn.ensemble import RandomForestClassifier\n",
    "from nltk.corpus import stopwords"
   ]
  },
  {
   "cell_type": "code",
   "execution_count": 2,
   "metadata": {},
   "outputs": [],
   "source": [
    "full_ws_df = pd.read_csv(\"./data/Shakespeare_data.csv\")"
   ]
  },
  {
   "cell_type": "code",
   "execution_count": 3,
   "metadata": {},
   "outputs": [],
   "source": [
    "#Drop rows that are not dialogue\n",
    "full_ws_df = full_ws_df.loc[full_ws_df[\"ActSceneLine\"].notna()]"
   ]
  },
  {
   "cell_type": "code",
   "execution_count": 4,
   "metadata": {},
   "outputs": [],
   "source": [
    "full_ws_df.drop(axis=1, labels=[\"Dataline\", \"PlayerLinenumber\", \"Player\", \"ActSceneLine\"], inplace=True)"
   ]
  },
  {
   "cell_type": "code",
   "execution_count": 5,
   "metadata": {},
   "outputs": [],
   "source": [
    "full_ws_df[\"Shakespeare\"] = 1"
   ]
  },
  {
   "cell_type": "code",
   "execution_count": 6,
   "metadata": {},
   "outputs": [],
   "source": [
    "full_ws_df = full_ws_df.rename(columns={\"PlayerLine\":\"Line\"})"
   ]
  },
  {
   "cell_type": "code",
   "execution_count": 7,
   "metadata": {},
   "outputs": [],
   "source": [
    "s_df = full_ws_df.loc[full_ws_df[\"Play\"].isin(\n",
    "    [\"Othello\", \"King Lear\", \"Antony and Cleopatra\", \"Coriolanus\"])]"
   ]
  },
  {
   "cell_type": "code",
   "execution_count": 8,
   "metadata": {},
   "outputs": [],
   "source": [
    "timon_df = full_ws_df.loc[full_ws_df[\"Play\"] == \"Timon of Athens\"]"
   ]
  },
  {
   "cell_type": "code",
   "execution_count": 9,
   "metadata": {
    "scrolled": true
   },
   "outputs": [
    {
     "name": "stderr",
     "output_type": "stream",
     "text": [
      "C:\\Users\\drewh\\anaconda3\\envs\\learn-env\\lib\\site-packages\\pandas\\core\\frame.py:4163: SettingWithCopyWarning: \n",
      "A value is trying to be set on a copy of a slice from a DataFrame\n",
      "\n",
      "See the caveats in the documentation: https://pandas.pydata.org/pandas-docs/stable/user_guide/indexing.html#returning-a-view-versus-a-copy\n",
      "  return super().drop(\n"
     ]
    }
   ],
   "source": [
    "s_df.drop(axis=1, labels=\"Play\", inplace=True)\n",
    "timon_df.drop(axis=1, labels=\"Play\", inplace=True)"
   ]
  },
  {
   "cell_type": "code",
   "execution_count": 10,
   "metadata": {},
   "outputs": [],
   "source": [
    "m1 = pd.read_csv(\"./data/a_trick_to_catch_the_old_one.csv\")\n",
    "m2 = pd.read_csv(\"./data/the_phoenix.csv\")\n",
    "m3 = pd.read_csv(\"./data/the_puritan.csv\")\n",
    "m4 = pd.read_csv(\"./data/the_revengers_tragedy.csv\")\n",
    "m5 = pd.read_csv(\"./data/your_five_gallants.csv\")"
   ]
  },
  {
   "cell_type": "code",
   "execution_count": 11,
   "metadata": {},
   "outputs": [],
   "source": [
    "m_df = pd.concat([m1, m2, m3, m4, m5])"
   ]
  },
  {
   "cell_type": "code",
   "execution_count": 12,
   "metadata": {},
   "outputs": [],
   "source": [
    "m_df[\"Shakespeare\"] = 0"
   ]
  },
  {
   "cell_type": "code",
   "execution_count": 13,
   "metadata": {},
   "outputs": [
    {
     "data": {
      "text/html": [
       "<div>\n",
       "<style scoped>\n",
       "    .dataframe tbody tr th:only-of-type {\n",
       "        vertical-align: middle;\n",
       "    }\n",
       "\n",
       "    .dataframe tbody tr th {\n",
       "        vertical-align: top;\n",
       "    }\n",
       "\n",
       "    .dataframe thead th {\n",
       "        text-align: right;\n",
       "    }\n",
       "</style>\n",
       "<table border=\"1\" class=\"dataframe\">\n",
       "  <thead>\n",
       "    <tr style=\"text-align: right;\">\n",
       "      <th></th>\n",
       "      <th>Line</th>\n",
       "      <th>Shakespeare</th>\n",
       "    </tr>\n",
       "  </thead>\n",
       "  <tbody>\n",
       "    <tr>\n",
       "      <th>0</th>\n",
       "      <td>All's gone! Still thou'rt a gentleman, that's ...</td>\n",
       "      <td>0</td>\n",
       "    </tr>\n",
       "    <tr>\n",
       "      <th>1</th>\n",
       "      <td>He that doth his youth expose</td>\n",
       "      <td>0</td>\n",
       "    </tr>\n",
       "    <tr>\n",
       "      <th>2</th>\n",
       "      <td>To brothel, drink, and danger,</td>\n",
       "      <td>0</td>\n",
       "    </tr>\n",
       "    <tr>\n",
       "      <th>3</th>\n",
       "      <td>Let him that is his nearest kin</td>\n",
       "      <td>0</td>\n",
       "    </tr>\n",
       "    <tr>\n",
       "      <th>4</th>\n",
       "      <td>Cheat him before a stranger.</td>\n",
       "      <td>0</td>\n",
       "    </tr>\n",
       "    <tr>\n",
       "      <th>...</th>\n",
       "      <td>...</td>\n",
       "      <td>...</td>\n",
       "    </tr>\n",
       "    <tr>\n",
       "      <th>1943</th>\n",
       "      <td>To them I give my thanks; myself to thee,</td>\n",
       "      <td>0</td>\n",
       "    </tr>\n",
       "    <tr>\n",
       "      <th>1944</th>\n",
       "      <td>Thrice-worthy Fitsgrave!</td>\n",
       "      <td>0</td>\n",
       "    </tr>\n",
       "    <tr>\n",
       "      <th>1945</th>\n",
       "      <td>I have all my wishes.</td>\n",
       "      <td>0</td>\n",
       "    </tr>\n",
       "    <tr>\n",
       "      <th>1946</th>\n",
       "      <td>And I presume there's none but those can frown,</td>\n",
       "      <td>0</td>\n",
       "    </tr>\n",
       "    <tr>\n",
       "      <th>1947</th>\n",
       "      <td>Whose envies, like the rushes, we tread down.</td>\n",
       "      <td>0</td>\n",
       "    </tr>\n",
       "  </tbody>\n",
       "</table>\n",
       "<p>8845 rows × 2 columns</p>\n",
       "</div>"
      ],
      "text/plain": [
       "                                                   Line  Shakespeare\n",
       "0     All's gone! Still thou'rt a gentleman, that's ...            0\n",
       "1                         He that doth his youth expose            0\n",
       "2                        To brothel, drink, and danger,            0\n",
       "3                       Let him that is his nearest kin            0\n",
       "4                          Cheat him before a stranger.            0\n",
       "...                                                 ...          ...\n",
       "1943          To them I give my thanks; myself to thee,            0\n",
       "1944                           Thrice-worthy Fitsgrave!            0\n",
       "1945                              I have all my wishes.            0\n",
       "1946    And I presume there's none but those can frown,            0\n",
       "1947      Whose envies, like the rushes, we tread down.            0\n",
       "\n",
       "[8845 rows x 2 columns]"
      ]
     },
     "execution_count": 13,
     "metadata": {},
     "output_type": "execute_result"
    }
   ],
   "source": [
    "m_df"
   ]
  },
  {
   "cell_type": "code",
   "execution_count": 14,
   "metadata": {},
   "outputs": [],
   "source": [
    "df = pd.concat([s_df, m_df])"
   ]
  },
  {
   "cell_type": "code",
   "execution_count": 15,
   "metadata": {},
   "outputs": [
    {
     "data": {
      "text/html": [
       "<div>\n",
       "<style scoped>\n",
       "    .dataframe tbody tr th:only-of-type {\n",
       "        vertical-align: middle;\n",
       "    }\n",
       "\n",
       "    .dataframe tbody tr th {\n",
       "        vertical-align: top;\n",
       "    }\n",
       "\n",
       "    .dataframe thead th {\n",
       "        text-align: right;\n",
       "    }\n",
       "</style>\n",
       "<table border=\"1\" class=\"dataframe\">\n",
       "  <thead>\n",
       "    <tr style=\"text-align: right;\">\n",
       "      <th></th>\n",
       "      <th>Line</th>\n",
       "      <th>Shakespeare</th>\n",
       "    </tr>\n",
       "  </thead>\n",
       "  <tbody>\n",
       "    <tr>\n",
       "      <th>18568</th>\n",
       "      <td>Nay, but this dotage of our general's</td>\n",
       "      <td>1</td>\n",
       "    </tr>\n",
       "    <tr>\n",
       "      <th>18569</th>\n",
       "      <td>O'erflows the measure: those his goodly eyes,</td>\n",
       "      <td>1</td>\n",
       "    </tr>\n",
       "    <tr>\n",
       "      <th>18570</th>\n",
       "      <td>That o'er the files and musters of the war</td>\n",
       "      <td>1</td>\n",
       "    </tr>\n",
       "    <tr>\n",
       "      <th>18571</th>\n",
       "      <td>Have glow'd like plated Mars, now bend, now turn,</td>\n",
       "      <td>1</td>\n",
       "    </tr>\n",
       "    <tr>\n",
       "      <th>18572</th>\n",
       "      <td>The office and devotion of their view</td>\n",
       "      <td>1</td>\n",
       "    </tr>\n",
       "    <tr>\n",
       "      <th>...</th>\n",
       "      <td>...</td>\n",
       "      <td>...</td>\n",
       "    </tr>\n",
       "    <tr>\n",
       "      <th>1943</th>\n",
       "      <td>To them I give my thanks; myself to thee,</td>\n",
       "      <td>0</td>\n",
       "    </tr>\n",
       "    <tr>\n",
       "      <th>1944</th>\n",
       "      <td>Thrice-worthy Fitsgrave!</td>\n",
       "      <td>0</td>\n",
       "    </tr>\n",
       "    <tr>\n",
       "      <th>1945</th>\n",
       "      <td>I have all my wishes.</td>\n",
       "      <td>0</td>\n",
       "    </tr>\n",
       "    <tr>\n",
       "      <th>1946</th>\n",
       "      <td>And I presume there's none but those can frown,</td>\n",
       "      <td>0</td>\n",
       "    </tr>\n",
       "    <tr>\n",
       "      <th>1947</th>\n",
       "      <td>Whose envies, like the rushes, we tread down.</td>\n",
       "      <td>0</td>\n",
       "    </tr>\n",
       "  </tbody>\n",
       "</table>\n",
       "<p>23241 rows × 2 columns</p>\n",
       "</div>"
      ],
      "text/plain": [
       "                                                    Line  Shakespeare\n",
       "18568              Nay, but this dotage of our general's            1\n",
       "18569      O'erflows the measure: those his goodly eyes,            1\n",
       "18570         That o'er the files and musters of the war            1\n",
       "18571  Have glow'd like plated Mars, now bend, now turn,            1\n",
       "18572              The office and devotion of their view            1\n",
       "...                                                  ...          ...\n",
       "1943           To them I give my thanks; myself to thee,            0\n",
       "1944                            Thrice-worthy Fitsgrave!            0\n",
       "1945                               I have all my wishes.            0\n",
       "1946     And I presume there's none but those can frown,            0\n",
       "1947       Whose envies, like the rushes, we tread down.            0\n",
       "\n",
       "[23241 rows x 2 columns]"
      ]
     },
     "execution_count": 15,
     "metadata": {},
     "output_type": "execute_result"
    }
   ],
   "source": [
    "df"
   ]
  },
  {
   "cell_type": "code",
   "execution_count": 16,
   "metadata": {},
   "outputs": [
    {
     "data": {
      "text/html": [
       "<div>\n",
       "<style scoped>\n",
       "    .dataframe tbody tr th:only-of-type {\n",
       "        vertical-align: middle;\n",
       "    }\n",
       "\n",
       "    .dataframe tbody tr th {\n",
       "        vertical-align: top;\n",
       "    }\n",
       "\n",
       "    .dataframe thead th {\n",
       "        text-align: right;\n",
       "    }\n",
       "</style>\n",
       "<table border=\"1\" class=\"dataframe\">\n",
       "  <thead>\n",
       "    <tr style=\"text-align: right;\">\n",
       "      <th></th>\n",
       "      <th>Line</th>\n",
       "      <th>Shakespeare</th>\n",
       "    </tr>\n",
       "  </thead>\n",
       "  <tbody>\n",
       "    <tr>\n",
       "      <th>18568</th>\n",
       "      <td>Nay, but this dotage of our general's</td>\n",
       "      <td>1</td>\n",
       "    </tr>\n",
       "    <tr>\n",
       "      <th>18569</th>\n",
       "      <td>O'erflows the measure: those his goodly eyes,</td>\n",
       "      <td>1</td>\n",
       "    </tr>\n",
       "    <tr>\n",
       "      <th>18570</th>\n",
       "      <td>That o'er the files and musters of the war</td>\n",
       "      <td>1</td>\n",
       "    </tr>\n",
       "    <tr>\n",
       "      <th>18571</th>\n",
       "      <td>Have glow'd like plated Mars, now bend, now turn,</td>\n",
       "      <td>1</td>\n",
       "    </tr>\n",
       "    <tr>\n",
       "      <th>18572</th>\n",
       "      <td>The office and devotion of their view</td>\n",
       "      <td>1</td>\n",
       "    </tr>\n",
       "    <tr>\n",
       "      <th>...</th>\n",
       "      <td>...</td>\n",
       "      <td>...</td>\n",
       "    </tr>\n",
       "    <tr>\n",
       "      <th>1943</th>\n",
       "      <td>To them I give my thanks; myself to thee,</td>\n",
       "      <td>0</td>\n",
       "    </tr>\n",
       "    <tr>\n",
       "      <th>1944</th>\n",
       "      <td>Thrice-worthy Fitsgrave!</td>\n",
       "      <td>0</td>\n",
       "    </tr>\n",
       "    <tr>\n",
       "      <th>1945</th>\n",
       "      <td>I have all my wishes.</td>\n",
       "      <td>0</td>\n",
       "    </tr>\n",
       "    <tr>\n",
       "      <th>1946</th>\n",
       "      <td>And I presume there's none but those can frown,</td>\n",
       "      <td>0</td>\n",
       "    </tr>\n",
       "    <tr>\n",
       "      <th>1947</th>\n",
       "      <td>Whose envies, like the rushes, we tread down.</td>\n",
       "      <td>0</td>\n",
       "    </tr>\n",
       "  </tbody>\n",
       "</table>\n",
       "<p>23241 rows × 2 columns</p>\n",
       "</div>"
      ],
      "text/plain": [
       "                                                    Line  Shakespeare\n",
       "18568              Nay, but this dotage of our general's            1\n",
       "18569      O'erflows the measure: those his goodly eyes,            1\n",
       "18570         That o'er the files and musters of the war            1\n",
       "18571  Have glow'd like plated Mars, now bend, now turn,            1\n",
       "18572              The office and devotion of their view            1\n",
       "...                                                  ...          ...\n",
       "1943           To them I give my thanks; myself to thee,            0\n",
       "1944                            Thrice-worthy Fitsgrave!            0\n",
       "1945                               I have all my wishes.            0\n",
       "1946     And I presume there's none but those can frown,            0\n",
       "1947       Whose envies, like the rushes, we tread down.            0\n",
       "\n",
       "[23241 rows x 2 columns]"
      ]
     },
     "execution_count": 16,
     "metadata": {},
     "output_type": "execute_result"
    }
   ],
   "source": [
    "df"
   ]
  },
  {
   "cell_type": "code",
   "execution_count": 17,
   "metadata": {
    "scrolled": true
   },
   "outputs": [],
   "source": [
    "X_train, X_test, y_train, y_test = train_test_split(df[\"Line\"], df[\"Shakespeare\"], train_size=.9, random_state=96)"
   ]
  },
  {
   "cell_type": "code",
   "execution_count": 18,
   "metadata": {},
   "outputs": [],
   "source": [
    "stoplist = stopwords.words('english')"
   ]
  },
  {
   "cell_type": "markdown",
   "metadata": {},
   "source": [
    "## Modeling"
   ]
  },
  {
   "cell_type": "code",
   "execution_count": 24,
   "metadata": {},
   "outputs": [],
   "source": [
    "tfidf_baseline = TfidfVectorizer(token_pattern=r\"(?u)\\b[A-Za-z]+\\b\",stop_words = stoplist)\n",
    "baseline_vectorized = tfidf_baseline.fit_transform(X_train)"
   ]
  },
  {
   "cell_type": "code",
   "execution_count": 25,
   "metadata": {},
   "outputs": [],
   "source": [
    "nb = MultinomialNB()"
   ]
  },
  {
   "cell_type": "code",
   "execution_count": 61,
   "metadata": {},
   "outputs": [
    {
     "data": {
      "text/plain": [
       "0.7662551212249893"
      ]
     },
     "execution_count": 61,
     "metadata": {},
     "output_type": "execute_result"
    }
   ],
   "source": [
    "baseline_cv = cross_val_score(nb, baseline_vectorized, y_train)\n",
    "baseline_cv.mean()"
   ]
  },
  {
   "cell_type": "code",
   "execution_count": 62,
   "metadata": {},
   "outputs": [
    {
     "name": "stdout",
     "output_type": "stream",
     "text": [
      "0.8444253203289348\n"
     ]
    }
   ],
   "source": [
    "nb.fit(baseline_vectorized, y_train)\n",
    "baseline_train_score = nb.score(baseline_vectorized, y_train)\n",
    "print(baseline_train_score)"
   ]
  },
  {
   "cell_type": "markdown",
   "metadata": {},
   "source": [
    "#### Iteration 1: Overfit Decision Tree"
   ]
  },
  {
   "cell_type": "code",
   "execution_count": 23,
   "metadata": {},
   "outputs": [],
   "source": [
    "dt = DecisionTreeClassifier()"
   ]
  },
  {
   "cell_type": "code",
   "execution_count": 25,
   "metadata": {},
   "outputs": [
    {
     "data": {
      "text/plain": [
       "0.7128030167631983"
      ]
     },
     "execution_count": 25,
     "metadata": {},
     "output_type": "execute_result"
    }
   ],
   "source": [
    "cv1 = cross_val_score(dt, baseline_vectorized, y_train)\n",
    "cv1.mean()"
   ]
  },
  {
   "cell_type": "code",
   "execution_count": 26,
   "metadata": {},
   "outputs": [
    {
     "name": "stdout",
     "output_type": "stream",
     "text": [
      "0.9812583668005355\n"
     ]
    }
   ],
   "source": [
    "dt.fit(baseline_vectorized, y_train)\n",
    "dt1_score = dt.score(baseline_vectorized, y_train)\n",
    "print(dt1_score)"
   ]
  },
  {
   "cell_type": "markdown",
   "metadata": {},
   "source": [
    "#### Iteration 2: Random Forest"
   ]
  },
  {
   "cell_type": "code",
   "execution_count": 22,
   "metadata": {},
   "outputs": [],
   "source": [
    "rf = RandomForestClassifier()"
   ]
  },
  {
   "cell_type": "code",
   "execution_count": 34,
   "metadata": {},
   "outputs": [
    {
     "data": {
      "text/plain": [
       "0.7510992435465595"
      ]
     },
     "execution_count": 34,
     "metadata": {},
     "output_type": "execute_result"
    }
   ],
   "source": [
    "cv2 = cross_val_score(rf, baseline_vectorized, y_train)\n",
    "cv2.mean()"
   ]
  },
  {
   "cell_type": "code",
   "execution_count": 35,
   "metadata": {},
   "outputs": [
    {
     "name": "stdout",
     "output_type": "stream",
     "text": [
      "0.9812583668005355\n"
     ]
    }
   ],
   "source": [
    "rf.fit(baseline_vectorized, y_train)\n",
    "rf1_score = rf.score(baseline_vectorized, y_train)\n",
    "print(rf1_score)"
   ]
  },
  {
   "cell_type": "markdown",
   "metadata": {},
   "source": [
    "#### Iteration 3: Modifying Vectorizer"
   ]
  },
  {
   "cell_type": "code",
   "execution_count": 20,
   "metadata": {
    "scrolled": true
   },
   "outputs": [],
   "source": [
    "tfidf_2 = TfidfVectorizer(token_pattern = r\"(?u)\\b[A-Za-z]+\\b\",\n",
    "                          stop_words = stoplist,\n",
    "                          ngram_range=(1, 2),\n",
    "                          min_df=5,\n",
    "                         )\n",
    "vectorized_2 = tfidf_2.fit_transform(X_train)"
   ]
  },
  {
   "cell_type": "code",
   "execution_count": 64,
   "metadata": {},
   "outputs": [
    {
     "data": {
      "text/plain": [
       "0.7404853890531145"
      ]
     },
     "execution_count": 64,
     "metadata": {},
     "output_type": "execute_result"
    }
   ],
   "source": [
    "cv3 = cross_val_score(rf, vectorized_2, y_train)\n",
    "cv3.mean()"
   ]
  },
  {
   "cell_type": "code",
   "execution_count": 65,
   "metadata": {},
   "outputs": [
    {
     "name": "stdout",
     "output_type": "stream",
     "text": [
      "0.9653853509275196\n"
     ]
    }
   ],
   "source": [
    "rf.fit(vectorized_2, y_train)\n",
    "rf2_score = rf.score(vectorized_2, y_train)\n",
    "print(rf2_score)"
   ]
  },
  {
   "cell_type": "code",
   "execution_count": 66,
   "metadata": {},
   "outputs": [
    {
     "data": {
      "text/plain": [
       "0.7605658590790639"
      ]
     },
     "execution_count": 66,
     "metadata": {},
     "output_type": "execute_result"
    }
   ],
   "source": [
    "nb_cv2 = cross_val_score(nb, vectorized_2, y_train)\n",
    "nb_cv2.mean()"
   ]
  },
  {
   "cell_type": "code",
   "execution_count": 67,
   "metadata": {},
   "outputs": [
    {
     "name": "stdout",
     "output_type": "stream",
     "text": [
      "0.805698986421878\n"
     ]
    }
   ],
   "source": [
    "nb.fit(vectorized_2, y_train)\n",
    "nb_train_score2 = nb.score(vectorized_2, y_train)\n",
    "print(nb_train_score2)"
   ]
  },
  {
   "cell_type": "markdown",
   "metadata": {},
   "source": [
    "#### Iteration 4: Random Forest Hyperparameters"
   ]
  },
  {
   "cell_type": "code",
   "execution_count": 26,
   "metadata": {
    "scrolled": true
   },
   "outputs": [],
   "source": [
    "grid_rf1 = {\"n_estimators\":[100, 200, 300],\n",
    "           \"criterion\": [\"gini\", \"entropy\", \"log_loss\"],\n",
    "           \"max_features\": [\"sqrt\", \"auto\"],\n",
    "           \"max_depth\" : [10,20,30,None],\n",
    "            \"min_samples_leaf\" : [1,2,4],\n",
    "            \"min_samples_split\": [2,5,10]\n",
    "            }\n",
    "GS_rf1 = GridSearchCV(\n",
    "    estimator=rf,\n",
    "    param_grid=grid_rf1,\n",
    "    verbose=2,\n",
    "    n_jobs=-1)"
   ]
  },
  {
   "cell_type": "code",
   "execution_count": 27,
   "metadata": {
    "scrolled": false
   },
   "outputs": [
    {
     "name": "stdout",
     "output_type": "stream",
     "text": [
      "Fitting 5 folds for each of 648 candidates, totalling 3240 fits\n"
     ]
    },
    {
     "name": "stderr",
     "output_type": "stream",
     "text": [
      "[Parallel(n_jobs=-1)]: Using backend LokyBackend with 12 concurrent workers.\n",
      "[Parallel(n_jobs=-1)]: Done  17 tasks      | elapsed:    6.0s\n",
      "[Parallel(n_jobs=-1)]: Done 138 tasks      | elapsed:   23.0s\n",
      "[Parallel(n_jobs=-1)]: Done 341 tasks      | elapsed:   54.9s\n",
      "[Parallel(n_jobs=-1)]: Done 624 tasks      | elapsed:  1.8min\n",
      "[Parallel(n_jobs=-1)]: Done 989 tasks      | elapsed:  8.5min\n",
      "[Parallel(n_jobs=-1)]: Done 1434 tasks      | elapsed: 11.2min\n",
      "[Parallel(n_jobs=-1)]: Done 1961 tasks      | elapsed: 15.8min\n",
      "[Parallel(n_jobs=-1)]: Done 2568 tasks      | elapsed: 21.4min\n",
      "[Parallel(n_jobs=-1)]: Done 3240 out of 3240 | elapsed: 21.6min finished\n"
     ]
    },
    {
     "data": {
      "text/plain": [
       "GridSearchCV(estimator=RandomForestClassifier(), n_jobs=-1,\n",
       "             param_grid={'criterion': ['gini', 'entropy', 'log_loss'],\n",
       "                         'max_depth': [10, 20, 30, None],\n",
       "                         'max_features': ['sqrt', 'auto'],\n",
       "                         'min_samples_leaf': [1, 2, 4],\n",
       "                         'min_samples_split': [2, 5, 10],\n",
       "                         'n_estimators': [100, 200, 300]},\n",
       "             verbose=2)"
      ]
     },
     "execution_count": 27,
     "metadata": {},
     "output_type": "execute_result"
    }
   ],
   "source": [
    "# GS_rf1.fit(vectorized_2, y_train)"
   ]
  },
  {
   "cell_type": "code",
   "execution_count": 28,
   "metadata": {},
   "outputs": [
    {
     "data": {
      "text/plain": [
       "{'criterion': 'entropy',\n",
       " 'max_depth': None,\n",
       " 'max_features': 'auto',\n",
       " 'min_samples_leaf': 2,\n",
       " 'min_samples_split': 5,\n",
       " 'n_estimators': 300}"
      ]
     },
     "execution_count": 28,
     "metadata": {},
     "output_type": "execute_result"
    }
   ],
   "source": [
    "# GS_rf1.best_params_"
   ]
  },
  {
   "cell_type": "markdown",
   "metadata": {},
   "source": [
    "{'criterion': 'entropy',\n",
    "\n",
    " 'max_depth': None,\n",
    " \n",
    " 'max_features': 'auto',\n",
    " \n",
    " 'min_samples_leaf': 2,\n",
    " \n",
    " 'min_samples_split': 5,\n",
    " \n",
    " 'n_estimators': 300}"
   ]
  },
  {
   "cell_type": "code",
   "execution_count": 29,
   "metadata": {},
   "outputs": [
    {
     "data": {
      "text/plain": [
       "0.74598373229712"
      ]
     },
     "execution_count": 29,
     "metadata": {},
     "output_type": "execute_result"
    }
   ],
   "source": [
    "# GS_rf1.best_score_"
   ]
  },
  {
   "cell_type": "markdown",
   "metadata": {},
   "source": [
    "0.74598373229712"
   ]
  },
  {
   "cell_type": "code",
   "execution_count": 34,
   "metadata": {},
   "outputs": [],
   "source": [
    "grid_rf2 = {\"n_estimators\":[250, 300, 400],\n",
    "           \"criterion\": [\"entropy\"],\n",
    "           \"max_features\": [\"auto\"],\n",
    "           \"max_depth\" : [None],\n",
    "            \"min_samples_leaf\" : [2, 3],\n",
    "            \"min_samples_split\": [3, 5, 7]\n",
    "            }\n",
    "GS_rf2 = GridSearchCV(\n",
    "    estimator=rf,\n",
    "    param_grid=grid_rf2,\n",
    "    verbose=2,\n",
    "    n_jobs=-1)"
   ]
  },
  {
   "cell_type": "code",
   "execution_count": 35,
   "metadata": {},
   "outputs": [
    {
     "name": "stdout",
     "output_type": "stream",
     "text": [
      "Fitting 5 folds for each of 18 candidates, totalling 90 fits\n"
     ]
    },
    {
     "name": "stderr",
     "output_type": "stream",
     "text": [
      "[Parallel(n_jobs=-1)]: Using backend LokyBackend with 12 concurrent workers.\n",
      "[Parallel(n_jobs=-1)]: Done  17 tasks      | elapsed:   57.8s\n",
      "[Parallel(n_jobs=-1)]: Done  90 out of  90 | elapsed:  4.2min finished\n"
     ]
    },
    {
     "data": {
      "text/plain": [
       "GridSearchCV(estimator=RandomForestClassifier(), n_jobs=-1,\n",
       "             param_grid={'criterion': ['entropy'], 'max_depth': [None],\n",
       "                         'max_features': ['auto'], 'min_samples_leaf': [2, 3],\n",
       "                         'min_samples_split': [3, 5, 7],\n",
       "                         'n_estimators': [250, 300, 400]},\n",
       "             verbose=2)"
      ]
     },
     "execution_count": 35,
     "metadata": {},
     "output_type": "execute_result"
    }
   ],
   "source": [
    "# GS_rf2.fit(vectorized_2, y_train)"
   ]
  },
  {
   "cell_type": "code",
   "execution_count": 36,
   "metadata": {
    "scrolled": true
   },
   "outputs": [
    {
     "data": {
      "text/plain": [
       "{'criterion': 'entropy',\n",
       " 'max_depth': None,\n",
       " 'max_features': 'auto',\n",
       " 'min_samples_leaf': 2,\n",
       " 'min_samples_split': 7,\n",
       " 'n_estimators': 400}"
      ]
     },
     "execution_count": 36,
     "metadata": {},
     "output_type": "execute_result"
    }
   ],
   "source": [
    "# GS_rf2.best_params_"
   ]
  },
  {
   "cell_type": "markdown",
   "metadata": {},
   "source": [
    "{'criterion': 'entropy',\n",
    "\n",
    " 'max_depth': None,\n",
    " \n",
    " 'max_features': 'auto',\n",
    " \n",
    " 'min_samples_leaf': 2,\n",
    " \n",
    " 'min_samples_split': 7,\n",
    " \n",
    " 'n_estimators': 400}"
   ]
  },
  {
   "cell_type": "code",
   "execution_count": 37,
   "metadata": {},
   "outputs": [
    {
     "data": {
      "text/plain": [
       "0.7456011745620648"
      ]
     },
     "execution_count": 37,
     "metadata": {},
     "output_type": "execute_result"
    }
   ],
   "source": [
    "# GS_rf2.best_score_"
   ]
  },
  {
   "cell_type": "markdown",
   "metadata": {},
   "source": [
    "0.7456011745620648\n"
   ]
  },
  {
   "cell_type": "code",
   "execution_count": 38,
   "metadata": {},
   "outputs": [],
   "source": [
    "grid_rf3 = {\"n_estimators\":[400, 700, 1000],\n",
    "           \"criterion\": [\"entropy\"],\n",
    "           \"max_features\": [\"auto\"],\n",
    "           \"max_depth\" : [None],\n",
    "            \"min_samples_leaf\" : [2],\n",
    "            \"min_samples_split\": [6, 7, 8]\n",
    "            }\n",
    "GS_rf3 = GridSearchCV(\n",
    "    estimator=rf,\n",
    "    param_grid=grid_rf3,\n",
    "    verbose=2,\n",
    "    n_jobs=-1)"
   ]
  },
  {
   "cell_type": "code",
   "execution_count": 39,
   "metadata": {},
   "outputs": [
    {
     "name": "stdout",
     "output_type": "stream",
     "text": [
      "Fitting 5 folds for each of 9 candidates, totalling 45 fits\n"
     ]
    },
    {
     "name": "stderr",
     "output_type": "stream",
     "text": [
      "[Parallel(n_jobs=-1)]: Using backend LokyBackend with 12 concurrent workers.\n",
      "[Parallel(n_jobs=-1)]: Done  17 tasks      | elapsed:  1.8min\n",
      "[Parallel(n_jobs=-1)]: Done  45 out of  45 | elapsed:  4.6min remaining:    0.0s\n",
      "[Parallel(n_jobs=-1)]: Done  45 out of  45 | elapsed:  4.6min finished\n"
     ]
    },
    {
     "data": {
      "text/plain": [
       "GridSearchCV(estimator=RandomForestClassifier(), n_jobs=-1,\n",
       "             param_grid={'criterion': ['entropy'], 'max_depth': [None],\n",
       "                         'max_features': ['auto'], 'min_samples_leaf': [2],\n",
       "                         'min_samples_split': [6, 7, 8],\n",
       "                         'n_estimators': [400, 700, 1000]},\n",
       "             verbose=2)"
      ]
     },
     "execution_count": 39,
     "metadata": {},
     "output_type": "execute_result"
    }
   ],
   "source": [
    "# GS_rf3.fit(vectorized_2, y_train)"
   ]
  },
  {
   "cell_type": "code",
   "execution_count": 40,
   "metadata": {},
   "outputs": [
    {
     "data": {
      "text/plain": [
       "{'criterion': 'entropy',\n",
       " 'max_depth': None,\n",
       " 'max_features': 'auto',\n",
       " 'min_samples_leaf': 2,\n",
       " 'min_samples_split': 6,\n",
       " 'n_estimators': 1000}"
      ]
     },
     "execution_count": 40,
     "metadata": {},
     "output_type": "execute_result"
    }
   ],
   "source": [
    "# GS_rf3.best_params_"
   ]
  },
  {
   "cell_type": "markdown",
   "metadata": {},
   "source": [
    "{'criterion': 'entropy',\n",
    "\n",
    " 'max_depth': None,\n",
    " \n",
    " 'max_features': 'auto',\n",
    " \n",
    " 'min_samples_leaf': 2,\n",
    " \n",
    " 'min_samples_split': 6,\n",
    " \n",
    " 'n_estimators': 1000}"
   ]
  },
  {
   "cell_type": "code",
   "execution_count": 41,
   "metadata": {},
   "outputs": [
    {
     "data": {
      "text/plain": [
       "0.7454577939753413"
      ]
     },
     "execution_count": 41,
     "metadata": {},
     "output_type": "execute_result"
    }
   ],
   "source": [
    "# GS_rf3.best_score_"
   ]
  },
  {
   "cell_type": "markdown",
   "metadata": {},
   "source": [
    "0.7454577939753413"
   ]
  },
  {
   "cell_type": "markdown",
   "metadata": {},
   "source": [
    "After these gridsearches, our accuracy score does not seem to be improving. The"
   ]
  }
 ],
 "metadata": {
  "kernelspec": {
   "display_name": "learn-env",
   "language": "python",
   "name": "learn-env"
  },
  "language_info": {
   "codemirror_mode": {
    "name": "ipython",
    "version": 3
   },
   "file_extension": ".py",
   "mimetype": "text/x-python",
   "name": "python",
   "nbconvert_exporter": "python",
   "pygments_lexer": "ipython3",
   "version": "3.8.5"
  }
 },
 "nbformat": 4,
 "nbformat_minor": 4
}
